{
  "nbformat": 4,
  "nbformat_minor": 0,
  "metadata": {
    "colab": {
      "provenance": [],
      "gpuType": "T4"
    },
    "kernelspec": {
      "name": "python3",
      "display_name": "Python 3"
    },
    "language_info": {
      "name": "python"
    },
    "accelerator": "GPU"
  },
  "cells": [
    {
      "cell_type": "code",
      "execution_count": null,
      "metadata": {
        "colab": {
          "base_uri": "https://localhost:8080/"
        },
        "id": "Fbu_0cjDqhdp",
        "outputId": "768628a0-86b0-4869-e72c-da3de0998a6a"
      },
      "outputs": [
        {
          "output_type": "stream",
          "name": "stdout",
          "text": [
            "NumPy matrix multiplication time: 36.512504 seconds\n",
            "TensorFlow matrix multiplication time (on GPU): 0.142152 seconds\n"
          ]
        }
      ],
      "source": [
        "import numpy as np\n",
        "import tensorflow as tf\n",
        "import time\n",
        "\n",
        "# Define matrix dimensions\n",
        "n = 10000  # A larger size for a more noticeable performance difference\n",
        "\n",
        "# Generate two random matrices using NumPy\n",
        "A_np = np.random.rand(n, n)\n",
        "B_np = np.random.rand(n, n)\n",
        "\n",
        "# Convert the NumPy matrices to TensorFlow tensors with the same values\n",
        "A_tf = tf.convert_to_tensor(A_np, dtype=tf.float32)\n",
        "B_tf = tf.convert_to_tensor(B_np, dtype=tf.float32)\n",
        "\n",
        "# NumPy matrix multiplication (on CPU)\n",
        "start_time = time.time()\n",
        "C_np = np.dot(A_np, B_np)\n",
        "end_time = time.time()\n",
        "numpy_time = end_time - start_time\n",
        "print(f\"NumPy matrix multiplication time: {numpy_time:.6f} seconds\")\n",
        "\n",
        "# TensorFlow matrix multiplication (on GPU, if available)\n",
        "start_time = time.time()\n",
        "with tf.device('/GPU:0'):  # Ensure the operation is executed on GPU\n",
        "    C_tf = tf.matmul(A_tf, B_tf)\n",
        "end_time = time.time()\n",
        "tensorflow_time = end_time - start_time\n",
        "print(f\"TensorFlow matrix multiplication time (on GPU): {tensorflow_time:.6f} seconds\")\n"
      ]
    }
  ]
}